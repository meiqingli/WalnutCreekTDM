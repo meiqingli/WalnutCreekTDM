{
 "cells": [
  {
   "cell_type": "markdown",
   "metadata": {},
   "source": [
    "## Walnut Creek TDM - OD Summary by Middle Filter\n",
    "\n",
    "This script takes in Streetlight O-M-D data, summarize the number of OMD trips by Day Type, Time of Day, and Middle Filter.\n",
    "It outputs heatmaps of OD zones for trips to and from Walnut Creek.\n",
    "\n",
    "Python 2.7 with Pandas 0.23.4\n",
    "\n",
    "Input data: 'OMD.csv'\n",
    "\n",
    "\n",
    "1) Day Type: '0: Average Day (M-Su)', '1: Average Weekday (Tu-Th)', '2: Average Weekend Day (Sa-Sa)'\n",
    "\n",
    "2) Day Part: '00: All Day (12am-12am)', AM Peak - '08: 7am (7am-8am)', '09: 8am (8am-9am)', PM-Peak - '17: 4pm (4pm-5pm)', '18: 5pm (5pm-6pm)'\n",
    "\n",
    "3) Middle Filters: 'N Main S of Sunnyvale', 'Treat Blvd @ Walnut Creek', 'Lawrence Way I-680 On Ramp', 'Ygnacio Valley E of I-680', 'California Blvd S of Ygnacio Valley Rd', 'N Main St S of Ygnacio Valley Rd', 'Mt Diablo Blvd E of I-680', 'Olympic Blvd E of I-680', 'Ygnacio Valley @ Walnut Creek Eastern Boundary', 'Treat @ Lime Ridge', 'Civic Dr S of Ygnacio Valley Rd', 'Ygnacio Valley btw Homestead & Montego'"
   ]
  },
  {
   "cell_type": "code",
   "execution_count": 1,
   "metadata": {},
   "outputs": [
    {
     "name": "stdout",
     "output_type": "stream",
     "text": [
      "C:\\Users\\mli\\Documents\\Scripts\\Walnut Creek TDM\n"
     ]
    }
   ],
   "source": [
    "import os\n",
    "print os.getcwd(); # Prints the working directory\n",
    "# set working directory\n",
    "# os.chdir(default_path)\n",
    "\n",
    "%matplotlib inline\n",
    "import pandas as pd\n",
    "pd.options.mode.chained_assignment = None  # default='warn'\n",
    "import numpy as np\n",
    "import matplotlib.pyplot as plt\n",
    "from matplotlib.pyplot import figure\n",
    "import seaborn as sns\n",
    "sns.set()"
   ]
  },
  {
   "cell_type": "code",
   "execution_count": 2,
   "metadata": {},
   "outputs": [],
   "source": [
    "# read in O-D Trip Purpose data\n",
    "omd_df = pd.read_csv('OMD.csv')"
   ]
  },
  {
   "cell_type": "code",
   "execution_count": 3,
   "metadata": {},
   "outputs": [
    {
     "data": {
      "text/plain": [
       "['Type of Travel',\n",
       " 'Origin Zone ID',\n",
       " 'Origin Zone Name',\n",
       " 'Origin Zone Is Pass-Through',\n",
       " 'Origin Zone Direction (degrees)',\n",
       " 'Origin Zone is Bi-Direction',\n",
       " 'Middle Filter Zone ID',\n",
       " 'Middle Filter Zone Name',\n",
       " 'Middle Filter Zone Direction (degrees)',\n",
       " 'Middle Filter Zone is Bi-Direction',\n",
       " 'Destination Zone ID',\n",
       " 'Destination Zone Name',\n",
       " 'Destination Zone Is Pass-Through',\n",
       " 'Destination Zone Direction (degrees)',\n",
       " 'Destination Zone is Bi-Direction',\n",
       " 'Day Type',\n",
       " 'Day Part',\n",
       " 'O-M-D Traffic (StL Index)',\n",
       " 'Origin Zone Traffic (StL Index)',\n",
       " 'Middle Filter Zone Traffic (StL Index)',\n",
       " 'Destination Zone Traffic (StL Index)',\n",
       " 'OD%',\n",
       " 'Avg Trip Duration (sec)',\n",
       " 'Income Less than 20K (percent)',\n",
       " 'Income 20K to 35K (percent)',\n",
       " 'Income 35K to 50K (percent)',\n",
       " 'Income 50K to 75K (percent)',\n",
       " 'Income 75K to 100K (percent)',\n",
       " 'Income 100K to 125K (percent)',\n",
       " 'Income 125K to 150K (percent)',\n",
       " 'Income 150K to 200K (percent)',\n",
       " 'Income More than 200K (percent)',\n",
       " 'No High School Diploma (percent)',\n",
       " 'High School Diploma (percent)',\n",
       " 'Some College (percent)',\n",
       " \"Bachelor's Degree (percent)\",\n",
       " 'Graduate Degree (percent)',\n",
       " 'White (percent)',\n",
       " 'Black (percent)',\n",
       " 'Indian (percent)',\n",
       " 'Asian (percent)',\n",
       " 'Islander (percent)',\n",
       " 'Other Race (percent)',\n",
       " 'Multiple Races (percent)',\n",
       " 'Hispanic (percent)',\n",
       " 'With Kids (percent)',\n",
       " 'With No Kids (percent)',\n",
       " 'With Kids under 6 years (percent)',\n",
       " 'With Kids between 6-17 years (percent)',\n",
       " 'Avg All Trip Duration (sec)',\n",
       " 'Avg Trip Length (mi)',\n",
       " 'Avg All Trip Length (mi)',\n",
       " 'Avg Trip Speed (mph)',\n",
       " 'Avg All Trip Speed (mph)',\n",
       " 'Avg All Trip Circuity',\n",
       " 'Trip Duration 0-10 min (percent)',\n",
       " 'Trip Duration 10-20 min (percent)',\n",
       " 'Trip Duration 20-30 min (percent)',\n",
       " 'Trip Duration 30-40 min (percent)',\n",
       " 'Trip Duration 40-50 min (percent)',\n",
       " 'Trip Duration 50-60 min (percent)',\n",
       " 'Trip Duration 60-70 min (percent)',\n",
       " 'Trip Duration 70-80 min (percent)',\n",
       " 'Trip Duration 80-90 min (percent)',\n",
       " 'Trip Duration 90-100 min (percent)',\n",
       " 'Trip Duration 100-110 min (percent)',\n",
       " 'Trip Duration 110-120 min (percent)',\n",
       " 'Trip Duration 120-130 min (percent)',\n",
       " 'Trip Duration 130-140 min (percent)',\n",
       " 'Trip Duration 140-150 min (percent)',\n",
       " 'Trip Duration 150+ min (percent)',\n",
       " 'Trip Length 0-1 mi (percent)',\n",
       " 'Trip Length 1-2 mi (percent)',\n",
       " 'Trip Length 2-5 mi (percent)',\n",
       " 'Trip Length 5-10 mi (percent)',\n",
       " 'Trip Length 10-20 mi (percent)',\n",
       " 'Trip Length 20-30 mi (percent)',\n",
       " 'Trip Length 30-40 mi (percent)',\n",
       " 'Trip Length 40-50 mi (percent)',\n",
       " 'Trip Length 50-60 mi (percent)',\n",
       " 'Trip Length 60-70 mi (percent)',\n",
       " 'Trip Length 70-80 mi (percent)',\n",
       " 'Trip Length 80-90 mi (percent)',\n",
       " 'Trip Length 90-100 mi (percent)',\n",
       " 'Trip Length 100+ mi (percent)',\n",
       " 'Circuity 1-2 (percent)',\n",
       " 'Circuity 2-3 (percent)',\n",
       " 'Circuity 3-4 (percent)',\n",
       " 'Circuity 4-5 (percent)',\n",
       " 'Circuity 5-6 (percent)',\n",
       " 'Circuity 6+ (percent)',\n",
       " 'Trip Speed 0-10 mph (percent)',\n",
       " 'Trip Speed 10-20 mph (percent)',\n",
       " 'Trip Speed 20-30 mph (percent)',\n",
       " 'Trip Speed 30-40 mph (percent)',\n",
       " 'Trip Speed 40-50 mph (percent)',\n",
       " 'Trip Speed 50-60 mph (percent)',\n",
       " 'Trip Speed 60-70 mph (percent)',\n",
       " 'Trip Speed 70-80 mph (percent)',\n",
       " 'Trip Speed 80-90 mph (percent)',\n",
       " 'Trip Speed 90+ mph (percent)',\n",
       " 'Purpose HBW (percent)',\n",
       " 'Purpose HBO (percent)',\n",
       " 'Purpose NHB (percent)']"
      ]
     },
     "execution_count": 3,
     "metadata": {},
     "output_type": "execute_result"
    }
   ],
   "source": [
    "list(omd_df) # get a list of attribute names"
   ]
  },
  {
   "cell_type": "code",
   "execution_count": 4,
   "metadata": {},
   "outputs": [],
   "source": [
    "# select columns we need\n",
    "df = omd_df[['Origin Zone ID','Origin Zone Name','Destination Zone ID', 'Middle Filter Zone Name', 'Middle Filter Zone ID', 'Destination Zone Name','Origin Zone Is Pass-Through','Destination Zone Is Pass-Through', 'Day Type', 'Day Part','O-M-D Traffic (StL Index)']]"
   ]
  },
  {
   "cell_type": "code",
   "execution_count": 5,
   "metadata": {},
   "outputs": [],
   "source": [
    "# read in lookup table\n",
    "zone = pd.read_csv('zone_crosswalk.csv')\n",
    "\n",
    "# rename columns\n",
    "origin_zone = zone.rename(index=str, columns={\"ZoneID\": \"Origin Zone ID\",\"Street Light Zone\":\"Origin Street Light Zone\", \"Location\": \"Origin Location\", \"Group\": \"Origin Group\", \"Employment\": \"Origin Employment\"})\n",
    "destination_zone = zone.rename(index=str, columns={\"ZoneID\": \"Destination Zone ID\",\"Street Light Zone\":\"Destination Street Light Zone\", \"Location\": \"Destination Location\", \"Group\": \"Destination Group\", \"Employment\": \"Destination Employment\"})"
   ]
  },
  {
   "cell_type": "code",
   "execution_count": 6,
   "metadata": {},
   "outputs": [],
   "source": [
    "# join zone lookup table to O-D dataframe\n",
    "df_o = pd.merge(df, origin_zone, on='Origin Zone ID', validate=\"many_to_one\")\n",
    "df_od = pd.merge(df_o, destination_zone, on=\"Destination Zone ID\", validate=\"many_to_one\" )\n",
    "\n",
    "#df_od.head()"
   ]
  },
  {
   "cell_type": "code",
   "execution_count": 7,
   "metadata": {},
   "outputs": [],
   "source": [
    "# filter out pass-through trips\n",
    "df_wc= df_od[((df_od['Origin Group'] == 'Walnut Creek') | (df_od['Destination Group'] == 'Walnut Creek')) & (df_od['Origin Zone Is Pass-Through'] == 'no') & (df_od['Destination Zone Is Pass-Through'] == 'no')]\n",
    "od_wc=df_wc.drop(columns=['Origin Zone Is Pass-Through', 'Destination Zone Is Pass-Through'])\n",
    "#od_wc.head()"
   ]
  },
  {
   "cell_type": "code",
   "execution_count": 8,
   "metadata": {},
   "outputs": [],
   "source": [
    "# filter by day part\n",
    "od_wc_all = od_wc[(od_wc['Day Part'] =='00: All Day (12am-12am)')]\n",
    "od_wc_am = od_wc[((od_wc['Day Part'] =='08: 7am (7am-8am)')|(od_wc['Day Part'] =='09: 8am (8am-9am)'))]\n",
    "od_wc_pm = od_wc[((od_wc['Day Part'] =='17: 4pm (4pm-5pm)')|(od_wc['Day Part'] =='18: 5pm (5pm-6pm)'))]"
   ]
  },
  {
   "cell_type": "code",
   "execution_count": 9,
   "metadata": {},
   "outputs": [],
   "source": [
    "# set group arrays\n",
    "Day_Type = ['0: Average Day (M-Su)', '1: Average Weekday (Tu-Th)', '2: Average Weekend Day (Sa-Sa)']\n",
    "Middle_Filter = ['N Main S of Sunnyvale', 'Treat Blvd @ Walnut Creek', 'Lawrence Way I-680 On Ramp', 'Ygnacio Valley E of I-680', 'California Blvd S of Ygnacio Valley Rd', 'N Main St S of Ygnacio Valley Rd', 'Mt Diablo Blvd E of I-680', 'Olympic Blvd E of I-680', 'Ygnacio Valley @ Walnut Creek Eastern Boundary', 'Treat @ Lime Ridge', 'Civic Dr S of Ygnacio Valley Rd', 'Ygnacio Valley btw Homestead & Montego']\n",
    "OD = [' Zone Name', ' Location', ' Group']"
   ]
  },
  {
   "cell_type": "code",
   "execution_count": 10,
   "metadata": {},
   "outputs": [],
   "source": [
    "# loop through group and plot\n",
    "# daily plot\n",
    "for x in Day_Type:\n",
    "    od_wc_all_dt = od_wc_all[(od_wc_all['Day Type'] == x)]\n",
    "    for y in Middle_Filter:\n",
    "        od_wc_all_mf = od_wc_all_dt[(od_wc_all_dt['Middle Filter Zone Name'] == y)]\n",
    "        for z in OD:\n",
    "            # pivot Table\n",
    "            matrix = od_wc_all_dt.pivot_table(values= 'O-M-D Traffic (StL Index)', columns= 'Destination' + z, index='Origin' + z, aggfunc=np.sum)\n",
    "            # seaborn heatmap documentation\n",
    "            # https://stanford.edu/~mwaskom/software/seaborn/generated/seaborn.heatmap.html\n",
    "            # https://seaborn.pydata.org/generated/seaborn.heatmap.html\n",
    "            # color ramps https://matplotlib.org/examples/color/colormaps_reference.html\n",
    "            # cmap choices: http://matplotlib.org/users/colormaps.html\n",
    "            plt.figure(figsize=(9,9), facecolor='#FFFFFF',edgecolor='#FFFFFF', clear=True)\n",
    "            plt.xlabel('Origin' + z, size = 15)\n",
    "            plt.ylabel('Destination' + z, size = 15)\n",
    "            plt.title('Daily' + ' ' + x[3:] + ' ' + y, size = 15)\n",
    "            sns.heatmap(matrix, fmt=\".1f\", linewidths=.5, square = True, cmap = 'Oranges', annot = None, xticklabels=True, yticklabels=True);\n",
    "            plt.savefig('Daily'+ x[3:] + y + z + '.pdf', dpi=300, bbox_inches='tight', papertype=None)\n",
    "            plt.close()"
   ]
  },
  {
   "cell_type": "code",
   "execution_count": 11,
   "metadata": {},
   "outputs": [],
   "source": [
    "# AM plot\n",
    "for x in Day_Type:\n",
    "    od_wc_am_dt = od_wc_am[(od_wc_am['Day Type'] == x)]\n",
    "    for y in Middle_Filter:\n",
    "        od_wc_am_mf = od_wc_am_dt[(od_wc_am_dt['Middle Filter Zone Name'] == y)]   \n",
    "        for z in OD:\n",
    "            # pivot Table\n",
    "            matrix = od_wc_am_dt.pivot_table(values= 'O-M-D Traffic (StL Index)', columns= 'Destination' + z, index='Origin' + z, aggfunc=np.sum)\n",
    "            plt.figure(figsize=(9,9), facecolor='#FFFFFF',edgecolor='#FFFFFF', clear=True)\n",
    "            plt.xlabel('Origin' + z, size = 15)\n",
    "            plt.ylabel('Destination' + z, size = 15)\n",
    "            plt.title('AM' + ' ' + x[3:] + ' ' + y, size = 15)\n",
    "            sns.heatmap(matrix, fmt=\".1f\", linewidths=.5, square = True, cmap = 'Reds', annot = None, xticklabels=True, yticklabels=True);\n",
    "            plt.savefig('AM'+ x[3:] + y + z + '.pdf', dpi=300, bbox_inches='tight', papertype=None)\n",
    "            plt.close()\n"
   ]
  },
  {
   "cell_type": "code",
   "execution_count": 12,
   "metadata": {},
   "outputs": [],
   "source": [
    "# PM plot\n",
    "for x in Day_Type:\n",
    "    od_wc_pm_dt = od_wc_pm[(od_wc_pm['Day Type'] == x)]\n",
    "    for y in Middle_Filter:\n",
    "        od_wc_pm_mf = od_wc_pm_dt[(od_wc_pm_dt['Middle Filter Zone Name'] == y)]\n",
    "        for z in OD:\n",
    "            # pivot Table\n",
    "            matrix = od_wc_pm_dt.pivot_table(values= 'O-M-D Traffic (StL Index)', columns= 'Destination' + z, index='Origin' + z, aggfunc=np.sum)\n",
    "            plt.figure(figsize=(9,9), facecolor='#FFFFFF',edgecolor='#FFFFFF', clear=True)\n",
    "            plt.xlabel('Origin' + z, size = 15)\n",
    "            plt.ylabel('Destination' + z, size = 15)\n",
    "            plt.title('PM' + ' ' + x[3:] + ' ' + y, size = 15)\n",
    "            sns.heatmap(matrix, fmt=\".1f\", linewidths=.5, square = True, cmap = 'Blues', annot = None, xticklabels=True, yticklabels=True);\n",
    "            plt.savefig('PM'+ x[3:] + y + z + '.pdf', dpi=300, bbox_inches='tight', papertype=None)\n",
    "            plt.close()"
   ]
  }
 ],
 "metadata": {
  "kernelspec": {
   "display_name": "Python 2",
   "language": "python",
   "name": "python2"
  },
  "language_info": {
   "codemirror_mode": {
    "name": "ipython",
    "version": 2
   },
   "file_extension": ".py",
   "mimetype": "text/x-python",
   "name": "python",
   "nbconvert_exporter": "python",
   "pygments_lexer": "ipython2",
   "version": "2.7.15"
  }
 },
 "nbformat": 4,
 "nbformat_minor": 2
}
