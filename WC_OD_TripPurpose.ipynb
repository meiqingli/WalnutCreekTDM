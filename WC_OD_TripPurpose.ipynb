{
 "cells": [
  {
   "cell_type": "markdown",
   "metadata": {},
   "source": [
    "## Walnut Creek TDM - OD Summary by Trip Purpose\n",
    "\n",
    "This script takes in Streetlight O-D data, summarize the number of OD trips by Day Type, Time of Day, and Trip Purpose.\n",
    "It outputs heatmaps of OD zones for trips to and from Walnut Creek.\n",
    "\n",
    "Python 2.7 with Pandas 0.23.4\n",
    "\n",
    "Input data: 'OD_TP.csv'\n"
   ]
  },
  {
   "cell_type": "markdown",
   "metadata": {},
   "source": [
    "1) Day Type: '0: Average Day (M-Su)', '1: Average Weekday (Tu-Th)', '2: Average Weekend Day (Sa-Sa)'\n",
    "\n",
    "2) Day Part: '00: All Day (12am-12am)', AM Peak - '08: 7am (7am-8am)', '09: 8am (8am-9am)', PM-Peak - '17: 4pm (4pm-5pm)', '18: 5pm (5pm-6pm)'"
   ]
  },
  {
   "cell_type": "code",
   "execution_count": 98,
   "metadata": {},
   "outputs": [
    {
     "name": "stdout",
     "output_type": "stream",
     "text": [
      "C:\\Users\\mli\\Documents\\Scripts\\Walnut Creek TDM\n"
     ]
    }
   ],
   "source": [
    "import os\n",
    "print os.getcwd(); # Prints the working directory\n",
    "# set working directory\n",
    "# os.chdir(default_path)\n",
    "\n",
    "%matplotlib inline\n",
    "import pandas as pd\n",
    "pd.options.mode.chained_assignment = None  # default='warn'\n",
    "import numpy as np\n",
    "import matplotlib.pyplot as plt\n",
    "from matplotlib.pyplot import figure\n",
    "import seaborn as sns\n",
    "sns.set()"
   ]
  },
  {
   "cell_type": "code",
   "execution_count": 99,
   "metadata": {},
   "outputs": [],
   "source": [
    "# read in O-D Trip Purpose data\n",
    "odtp_df = pd.read_csv('OD_TP.csv')"
   ]
  },
  {
   "cell_type": "code",
   "execution_count": 100,
   "metadata": {},
   "outputs": [],
   "source": [
    "#od_df.head() # read first 5 rows of data"
   ]
  },
  {
   "cell_type": "code",
   "execution_count": 101,
   "metadata": {},
   "outputs": [],
   "source": [
    "#odtp_df['Type of Travel'].unique()"
   ]
  },
  {
   "cell_type": "code",
   "execution_count": 102,
   "metadata": {},
   "outputs": [
    {
     "data": {
      "text/plain": [
       "['Type of Travel',\n",
       " 'Origin Zone ID',\n",
       " 'Origin Zone Name',\n",
       " 'Origin Zone Is Pass-Through',\n",
       " 'Origin Zone Direction (degrees)',\n",
       " 'Origin Zone is Bi-Direction',\n",
       " 'Destination Zone ID',\n",
       " 'Destination Zone Name',\n",
       " 'Destination Zone Is Pass-Through',\n",
       " 'Destination Zone Direction (degrees)',\n",
       " 'Destination Zone is Bi-Direction',\n",
       " 'Day Type',\n",
       " 'Day Part',\n",
       " 'O-D Traffic (StL Index)',\n",
       " 'Purpose HBW (percent)',\n",
       " 'Purpose HBO (percent)',\n",
       " 'Purpose NHB (percent)']"
      ]
     },
     "execution_count": 102,
     "metadata": {},
     "output_type": "execute_result"
    }
   ],
   "source": [
    "list(odtp_df) # get a list of attribute names"
   ]
  },
  {
   "cell_type": "code",
   "execution_count": 103,
   "metadata": {},
   "outputs": [],
   "source": [
    "# calculate number of HBW, HBO, NHB trips\n",
    "odtp_df['HBW Trips'] = odtp_df.apply(lambda x: round(x['O-D Traffic (StL Index)'] * x['Purpose HBW (percent)']), axis=1)\n",
    "odtp_df['HBO Trips'] = odtp_df.apply(lambda x: round(x['O-D Traffic (StL Index)'] * x['Purpose HBO (percent)']), axis=1)\n",
    "odtp_df['NHB Trips'] = odtp_df.apply(lambda x: round(x['O-D Traffic (StL Index)'] * x['Purpose NHB (percent)']), axis=1)\n",
    "\n",
    "# select columns we need\n",
    "df = odtp_df[['Origin Zone ID','Origin Zone Name','Destination Zone ID', 'Destination Zone Name', 'Origin Zone Is Pass-Through','Destination Zone Is Pass-Through', 'Day Type', 'Day Part','O-D Traffic (StL Index)', 'Purpose HBW (percent)', 'Purpose HBO (percent)', 'Purpose NHB (percent)', 'HBW Trips', 'HBO Trips', 'NHB Trips']]"
   ]
  },
  {
   "cell_type": "code",
   "execution_count": 104,
   "metadata": {},
   "outputs": [],
   "source": [
    "#df['Day Type'].unique()"
   ]
  },
  {
   "cell_type": "code",
   "execution_count": 105,
   "metadata": {},
   "outputs": [],
   "source": [
    "#df['Day Part'].unique()"
   ]
  },
  {
   "cell_type": "code",
   "execution_count": 106,
   "metadata": {},
   "outputs": [],
   "source": [
    "# read in lookup table\n",
    "zone = pd.read_csv('zone_crosswalk.csv')\n",
    "\n",
    "# rename columns\n",
    "origin_zone = zone.rename(index=str, columns={\"ZoneID\": \"Origin Zone ID\",\"Street Light Zone\":\"Origin Street Light Zone\", \"Location\": \"Origin Location\", \"Group\": \"Origin Group\", \"Employment\": \"Origin Employment\"})\n",
    "destination_zone = zone.rename(index=str, columns={\"ZoneID\": \"Destination Zone ID\",\"Street Light Zone\":\"Destination Street Light Zone\", \"Location\": \"Destination Location\", \"Group\": \"Destination Group\", \"Employment\": \"Destination Employment\"})"
   ]
  },
  {
   "cell_type": "code",
   "execution_count": 107,
   "metadata": {},
   "outputs": [],
   "source": [
    "#origin_zone"
   ]
  },
  {
   "cell_type": "code",
   "execution_count": 108,
   "metadata": {
    "scrolled": true
   },
   "outputs": [],
   "source": [
    "#destination_zone"
   ]
  },
  {
   "cell_type": "code",
   "execution_count": 109,
   "metadata": {},
   "outputs": [],
   "source": [
    "# join zone lookup table to O-D dataframe\n",
    "df_o = pd.merge(df, origin_zone, on='Origin Zone ID', validate=\"many_to_one\")\n",
    "df_od = pd.merge(df_o, destination_zone, on=\"Destination Zone ID\", validate=\"many_to_one\" )\n",
    "\n",
    "#df_od.head()"
   ]
  },
  {
   "cell_type": "code",
   "execution_count": 110,
   "metadata": {},
   "outputs": [],
   "source": [
    "# filter out pass-through trips\n",
    "df_wc= df_od[((df_od['Origin Group'] == 'Walnut Creek') | (df_od['Destination Group'] == 'Walnut Creek')) & (df_od['Origin Zone Is Pass-Through'] == 'no') & (df_od['Destination Zone Is Pass-Through'] == 'no')]\n",
    "od_wc=df_wc.drop(columns=['Origin Zone Is Pass-Through', 'Destination Zone Is Pass-Through'])\n",
    "#od_wc.head()"
   ]
  },
  {
   "cell_type": "code",
   "execution_count": 111,
   "metadata": {},
   "outputs": [],
   "source": [
    "# filter by day part\n",
    "od_wc_all = od_wc[(od_wc['Day Part'] =='00: All Day (12am-12am)')]\n",
    "od_wc_am = od_wc[((od_wc['Day Part'] =='08: 7am (7am-8am)')|(od_wc['Day Part'] =='09: 8am (8am-9am)'))]\n",
    "od_wc_pm = od_wc[((od_wc['Day Part'] =='17: 4pm (4pm-5pm)')|(od_wc['Day Part'] =='18: 5pm (5pm-6pm)'))]"
   ]
  },
  {
   "cell_type": "code",
   "execution_count": 112,
   "metadata": {},
   "outputs": [],
   "source": [
    "# set group arrays\n",
    "Day_Type = ['0: Average Day (M-Su)', '1: Average Weekday (Tu-Th)', '2: Average Weekend Day (Sa-Sa)']\n",
    "Trip_Purpose = ['HBW Trips', 'HBO Trips', 'NHB Trips']\n",
    "OD = [' Zone Name', ' Location', ' Group']"
   ]
  },
  {
   "cell_type": "code",
   "execution_count": 113,
   "metadata": {},
   "outputs": [],
   "source": [
    "# loop through group and plot\n",
    "# daily plot\n",
    "for x in Day_Type:\n",
    "    for y in Trip_Purpose:\n",
    "        for z in OD:\n",
    "            od_wc_all_dt = od_wc_all[(od_wc_all['Day Type'] == x)]\n",
    "            # pivot Table\n",
    "            matrix = od_wc_all_dt.pivot_table(values= y, columns= 'Destination' + z, index='Origin' + z, aggfunc=np.sum)\n",
    "            # seaborn heatmap documentation\n",
    "            # https://stanford.edu/~mwaskom/software/seaborn/generated/seaborn.heatmap.html\n",
    "            # https://seaborn.pydata.org/generated/seaborn.heatmap.html\n",
    "            # color ramps https://matplotlib.org/examples/color/colormaps_reference.html\n",
    "            # cmap choices: http://matplotlib.org/users/colormaps.html\n",
    "            plt.figure(figsize=(9,9), facecolor='#FFFFFF',edgecolor='#FFFFFF', clear=True)\n",
    "            plt.xlabel('Origin' + z, size = 15)\n",
    "            plt.ylabel('Destination' + z, size = 15)\n",
    "            plt.title('Daily' + ' ' + x[3:] + ' ' + y, size = 15)\n",
    "            sns.heatmap(matrix, fmt=\".1f\", linewidths=.5, square = True, cmap = 'Oranges', annot = None, xticklabels=True, yticklabels=True);\n",
    "            plt.savefig('Daily'+ x[3:] + y + z + '.pdf', dpi=300, bbox_inches='tight', papertype=None)\n",
    "            plt.close()"
   ]
  },
  {
   "cell_type": "code",
   "execution_count": 114,
   "metadata": {},
   "outputs": [],
   "source": [
    "# AM plot\n",
    "for x in Day_Type:\n",
    "    for y in Trip_Purpose:\n",
    "        for z in OD:\n",
    "            od_wc_am_dt = od_wc_am[(od_wc_am['Day Type'] == x)]\n",
    "            # pivot Table\n",
    "            matrix = od_wc_am_dt.pivot_table(values= y, columns= 'Destination' + z, index='Origin' + z, aggfunc=np.sum)\n",
    "            plt.figure(figsize=(9,9), facecolor='#FFFFFF',edgecolor='#FFFFFF', clear=True)\n",
    "            plt.xlabel('Origin' + z, size = 15)\n",
    "            plt.ylabel('Destination' + z, size = 15)\n",
    "            plt.title('AM' + ' ' + x[3:] + ' ' + y, size = 15)\n",
    "            sns.heatmap(matrix, fmt=\".1f\", linewidths=.5, square = True, cmap = 'Reds', annot = None, xticklabels=True, yticklabels=True);\n",
    "            plt.savefig('AM'+ x[3:] + y + z + '.pdf', dpi=300, bbox_inches='tight', papertype=None)\n",
    "            plt.close()\n"
   ]
  },
  {
   "cell_type": "code",
   "execution_count": 115,
   "metadata": {},
   "outputs": [],
   "source": [
    "# PM plot\n",
    "for x in Day_Type:\n",
    "    for y in Trip_Purpose:\n",
    "        for z in OD:\n",
    "            od_wc_pm_dt = od_wc_pm[(od_wc_pm['Day Type'] == x)]\n",
    "            # pivot Table\n",
    "            matrix = od_wc_pm_dt.pivot_table(values= y, columns= 'Destination' + z, index='Origin' + z, aggfunc=np.sum)\n",
    "            plt.figure(figsize=(9,9), facecolor='#FFFFFF',edgecolor='#FFFFFF', clear=True)\n",
    "            plt.xlabel('Origin' + z, size = 15)\n",
    "            plt.ylabel('Destination' + z, size = 15)\n",
    "            plt.title('PM' + ' ' + x[3:] + ' ' + y, size = 15)\n",
    "            sns.heatmap(matrix, fmt=\".1f\", linewidths=.5, square = True, cmap = 'Blues', annot = None, xticklabels=True, yticklabels=True);\n",
    "            plt.savefig('PM'+ x[3:] + y + z + '.pdf', dpi=300, bbox_inches='tight', papertype=None)\n",
    "            plt.close()"
   ]
  }
 ],
 "metadata": {
  "kernelspec": {
   "display_name": "Python 2",
   "language": "python",
   "name": "python2"
  },
  "language_info": {
   "codemirror_mode": {
    "name": "ipython",
    "version": 2
   },
   "file_extension": ".py",
   "mimetype": "text/x-python",
   "name": "python",
   "nbconvert_exporter": "python",
   "pygments_lexer": "ipython2",
   "version": "2.7.15"
  }
 },
 "nbformat": 4,
 "nbformat_minor": 2
}
